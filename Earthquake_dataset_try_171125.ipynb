{
 "cells": [
  {
   "cell_type": "code",
   "execution_count": 1,
   "metadata": {
    "collapsed": false
   },
   "outputs": [
    {
     "name": "stdout",
     "output_type": "stream",
     "text": [
      "curses is not supported on this machine (please install/reinstall curses for an optimal experience)\n"
     ]
    }
   ],
   "source": [
    "from sklearn.preprocessing import MinMaxScaler\n",
    "from sklearn.model_selection import train_test_split\n",
    "from sklearn.neural_network import MLPRegressor\n",
    "from sklearn.model_selection import GridSearchCV\n",
    "from sklearn.linear_model import LinearRegression\n",
    "import numpy as np\n",
    "import pandas as pd\n",
    "import tflearn"
   ]
  },
  {
   "cell_type": "code",
   "execution_count": 2,
   "metadata": {
    "collapsed": true
   },
   "outputs": [],
   "source": [
    "df = pd.read_csv('D:\\Working\\TensorFlowTry\\how_to_do_math_for_deep_learning-master\\database.csv')"
   ]
  },
  {
   "cell_type": "code",
   "execution_count": 3,
   "metadata": {
    "collapsed": false
   },
   "outputs": [
    {
     "name": "stdout",
     "output_type": "stream",
     "text": [
      "   Latitude  Longitude  Magnitude  Depth\n",
      "0    19.246    145.616        6.0  131.6\n",
      "1     1.863    127.352        5.8   80.0\n",
      "2   -20.579   -173.972        6.2   20.0\n",
      "3   -59.076    -23.557        5.8   15.0\n",
      "4    11.938    126.427        5.8   15.0\n",
      "5   -13.405    166.629        6.7   35.0\n",
      "6    27.357     87.867        5.9   20.0\n",
      "7   -13.309    166.212        6.0   35.0\n",
      "8   -56.452    -27.043        6.0   95.0\n",
      "9   -24.563    178.487        5.8  565.0\n"
     ]
    }
   ],
   "source": [
    "df = df[['Latitude', 'Longitude', 'Magnitude', 'Depth']]\n",
    "print(df.head(10))"
   ]
  },
  {
   "cell_type": "code",
   "execution_count": 4,
   "metadata": {
    "collapsed": false
   },
   "outputs": [],
   "source": [
    "x_vals = df.drop('Magnitude',axis=1)\n",
    "y_vals = df['Magnitude']\n",
    "x_train, x_test, y_train, y_test = train_test_split(x_vals, y_vals, test_size=0.1, random_state=0)"
   ]
  },
  {
   "cell_type": "code",
   "execution_count": 5,
   "metadata": {
    "collapsed": false
   },
   "outputs": [
    {
     "name": "stdout",
     "output_type": "stream",
     "text": [
      "       Latitude  Longitude  Depth\n",
      "3539    -6.5900   155.0540   49.0\n",
      "2395   -11.1600   162.1730   15.0\n",
      "2285     0.9220   -28.2800   10.0\n",
      "9365   -56.4040  -121.9640   10.0\n",
      "21670   -5.2990   151.5190   60.0\n",
      "3337    61.9090  -149.7380   66.0\n",
      "21436  -20.8960  -174.1940   11.0\n",
      "10070   -6.2450   154.7870   59.4\n",
      "22884    6.2386   147.6443   13.0\n",
      "9586   -19.0160   176.6520   33.0\n",
      "\n",
      "[[ 0.43222859  0.93071015  0.07145914]\n",
      " [ 0.4042064   0.95048542  0.02296391]\n",
      " [ 0.47829046  0.42144196  0.01583226]\n",
      " [ 0.12678051  0.16120502  0.01583226]\n",
      " [ 0.44014471  0.92089057  0.08714877]\n",
      " [ 0.85224883  0.08405395  0.09570675]\n",
      " [ 0.34450747  0.01611967  0.01725859]\n",
      " [ 0.43434405  0.92996847  0.08629297]\n",
      " [ 0.51089064  0.91012736  0.02011125]\n",
      " [ 0.3560352   0.99070543  0.04863785]]\n"
     ]
    }
   ],
   "source": [
    "mms = MinMaxScaler()\n",
    "print(x_train[:10])\n",
    "print()\n",
    "x_train = mms.fit_transform(x_train)\n",
    "x_test = mms.transform(x_test)\n",
    "print(x_train[:10])"
   ]
  },
  {
   "cell_type": "code",
   "execution_count": 6,
   "metadata": {
    "collapsed": false
   },
   "outputs": [
    {
     "name": "stderr",
     "output_type": "stream",
     "text": [
      "C:\\Users\\user\\Anaconda3\\lib\\site-packages\\ipykernel\\__main__.py:1: FutureWarning: reshape is deprecated and will raise in a subsequent release. Please use .values.reshape(...) instead\n",
      "  if __name__ == '__main__':\n",
      "C:\\Users\\user\\Anaconda3\\lib\\site-packages\\ipykernel\\__main__.py:2: FutureWarning: reshape is deprecated and will raise in a subsequent release. Please use .values.reshape(...) instead\n",
      "  from ipykernel import kernelapp as app\n"
     ]
    }
   ],
   "source": [
    "y_train = y_train.reshape([-1,1])\n",
    "y_test = y_test.reshape([-1,1])"
   ]
  },
  {
   "cell_type": "code",
   "execution_count": null,
   "metadata": {
    "collapsed": false
   },
   "outputs": [],
   "source": [
    "'''mlp = MLPRegressor(random_state=0, hidden_layer_sizes=(100,100), max_iter=600,  alpha=0.001)\n",
    "params = {\n",
    "          'alpha': list(np.logspace(-3.5,1,5)),\n",
    "          'learning_rate_init': list(np.logspace(-3,1,4))}\n",
    "gs = GridSearchCV(mlp, params, scoring='r2')\n",
    "lr = LinearRegression()'''"
   ]
  },
  {
   "cell_type": "code",
   "execution_count": null,
   "metadata": {
    "collapsed": false
   },
   "outputs": [],
   "source": [
    "'''lr.fit(x_train, y_train)'''"
   ]
  },
  {
   "cell_type": "code",
   "execution_count": null,
   "metadata": {
    "collapsed": false
   },
   "outputs": [],
   "source": [
    "'''yy = lr.predict(x_train)\n",
    "print(yy[:10])\n",
    "print(y_train[:10])'''"
   ]
  },
  {
   "cell_type": "code",
   "execution_count": null,
   "metadata": {
    "collapsed": false
   },
   "outputs": [],
   "source": [
    "'''print(lr.score(x_train, y_train))'''"
   ]
  },
  {
   "cell_type": "code",
   "execution_count": 7,
   "metadata": {
    "collapsed": false
   },
   "outputs": [
    {
     "name": "stdout",
     "output_type": "stream",
     "text": [
      "Training Step: 6589  | total loss: \u001b[1m\u001b[32m0.22256\u001b[0m\u001b[0m | time: 5.108s\n",
      "| SGD | epoch: 010 | loss: 0.22256 - R2: 0.9912 -- iter: 21056/21070\n",
      "Training Step: 6590  | total loss: \u001b[1m\u001b[32m0.21451\u001b[0m\u001b[0m | time: 5.118s\n",
      "| SGD | epoch: 010 | loss: 0.21451 - R2: 0.9942 -- iter: 21070/21070\n",
      "--\n"
     ]
    }
   ],
   "source": [
    "input_ = tflearn.input_data(shape=[None,3])\n",
    "linear = tflearn.fully_connected(input_,1, activation='linear')\n",
    "regression = tflearn.regression(linear, optimizer='sgd', loss='mean_square', metric='R2', learning_rate=0.01)\n",
    "m=tflearn.DNN(regression)\n",
    "m.fit(x_train, y_train, n_epoch=10, show_metric=True, batch_size=32)"
   ]
  },
  {
   "cell_type": "code",
   "execution_count": 12,
   "metadata": {
    "collapsed": false
   },
   "outputs": [
    {
     "name": "stdout",
     "output_type": "stream",
     "text": [
      "[[ 5.89757347]\n",
      " [ 5.91938257]\n",
      " [ 5.93642426]\n",
      " [ 5.83411837]\n",
      " [ 5.88634396]\n",
      " [ 5.92642069]\n",
      " [ 5.88477898]\n",
      " [ 5.83923292]\n",
      " [ 5.91131878]\n",
      " [ 5.80771112]]\n",
      "[[ 5.9]\n",
      " [ 6.1]\n",
      " [ 5.5]\n",
      " [ 5.5]\n",
      " [ 7.5]\n",
      " [ 6.1]\n",
      " [ 5.9]\n",
      " [ 6.2]\n",
      " [ 5.5]\n",
      " [ 5.7]]\n",
      "[0.9946622262135415]\n"
     ]
    }
   ],
   "source": [
    "yy = m.predict(x_test)\n",
    "print(yy[:10])\n",
    "print(y_test[:10])\n",
    "print(m.evaluate(x_test,y_test))"
   ]
  }
 ],
 "metadata": {
  "kernelspec": {
   "display_name": "Python [default]",
   "language": "python",
   "name": "python3"
  },
  "language_info": {
   "codemirror_mode": {
    "name": "ipython",
    "version": 3
   },
   "file_extension": ".py",
   "mimetype": "text/x-python",
   "name": "python",
   "nbconvert_exporter": "python",
   "pygments_lexer": "ipython3",
   "version": "3.6.3"
  }
 },
 "nbformat": 4,
 "nbformat_minor": 2
}
